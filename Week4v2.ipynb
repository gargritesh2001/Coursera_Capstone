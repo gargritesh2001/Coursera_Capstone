{
 "cells": [
  {
   "cell_type": "markdown",
   "metadata": {},
   "source": [
    "# Opening a College\n",
    "### For the city of Toronto\n",
    "\n",
    "This is a hypothetical situation where someone has decided to open up a college in Toronto. In this situation, the management has decided to hire Data Scientists in order to figure out the best place to open up a college in Toronto. The team of Data Scientists has to consider various factors around any neighborhood to decide the best place to open up a College.\n",
    "\n",
    "### Description of the School\n",
    "\n",
    "This is a type of school centred around complete self-dependence. This College provides all the essentials that a student needs such as Stationary, General Store, Gymnasium, Sports Facilities, Hostel, Playing Fields, a mess etc. "
   ]
  },
  {
   "cell_type": "markdown",
   "metadata": {},
   "source": [
    "The factors that I would consider while opening up the College are:\n",
    "* The Number of Colleges in the Neighborhood. (The less the better.) - A dominant factor.\n",
    "* The Number of Hotels, Restraunts and Bars. (The less the better.) - A dominant factor.\n",
    "* The Transport services (Airports, Bus stations, Train Stations etc.) - The more the better.\n",
    "* The Number of Active Entertainment Areas (Sports stadiums, Basketball Stadium etc.)\n",
    "* The Number of Passive Entertainment Areas (Shopping Malls, Movie Theatres etc.) - The less the better.\n",
    "* The Number of Hard Drinks shops. (The less the better.) - A very dominant factor"
   ]
  },
  {
   "cell_type": "markdown",
   "metadata": {},
   "source": [
    "# Data for the Problem\n",
    "### Foursquare Locations Data"
   ]
  },
  {
   "cell_type": "markdown",
   "metadata": {},
   "source": [
    "Clearly, this problem can be solved solely by the foursquare data. The Foursquare API can easily provide this data by exploring any given location in Toronto. By classifying all the venues into the categories described above we can clearly determine how many venues of each type are present in any neighborhood."
   ]
  },
  {
   "cell_type": "markdown",
   "metadata": {},
   "source": [
    "The last thing we need to determine is the objective function to minimise in this situation, clearly not all of the venues have the equal amount of weightage or similar impact in determining the type of location. Hence, we would need to define an objective function that properly attaches weights to all of these parameters. But all of the data we require can be easily obtained from Foursquare."
   ]
  },
  {
   "cell_type": "code",
   "execution_count": null,
   "metadata": {},
   "outputs": [],
   "source": []
  }
 ],
 "metadata": {
  "kernelspec": {
   "display_name": "Python 3",
   "language": "python",
   "name": "python3"
  },
  "language_info": {
   "codemirror_mode": {
    "name": "ipython",
    "version": 3
   },
   "file_extension": ".py",
   "mimetype": "text/x-python",
   "name": "python",
   "nbconvert_exporter": "python",
   "pygments_lexer": "ipython3",
   "version": "3.7.7"
  }
 },
 "nbformat": 4,
 "nbformat_minor": 4
}
